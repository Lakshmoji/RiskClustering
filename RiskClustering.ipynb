{
 "cells": [
  {
   "cell_type": "code",
   "execution_count": 1,
   "id": "c3b7b61a",
   "metadata": {},
   "outputs": [
    {
     "data": {
      "text/html": [
       "<div>\n",
       "<style scoped>\n",
       "    .dataframe tbody tr th:only-of-type {\n",
       "        vertical-align: middle;\n",
       "    }\n",
       "\n",
       "    .dataframe tbody tr th {\n",
       "        vertical-align: top;\n",
       "    }\n",
       "\n",
       "    .dataframe thead th {\n",
       "        text-align: right;\n",
       "    }\n",
       "</style>\n",
       "<table border=\"1\" class=\"dataframe\">\n",
       "  <thead>\n",
       "    <tr style=\"text-align: right;\">\n",
       "      <th></th>\n",
       "      <th>TransactionAmount</th>\n",
       "      <th>FrequencyOfTransactions</th>\n",
       "      <th>IsNewDevice</th>\n",
       "      <th>IsNewLocation</th>\n",
       "      <th>PaymentMethod</th>\n",
       "      <th>TransactionHour</th>\n",
       "      <th>UserAgeDays</th>\n",
       "      <th>PreviousFraudReports</th>\n",
       "    </tr>\n",
       "  </thead>\n",
       "  <tbody>\n",
       "    <tr>\n",
       "      <th>0</th>\n",
       "      <td>1903.973588</td>\n",
       "      <td>47</td>\n",
       "      <td>1</td>\n",
       "      <td>0</td>\n",
       "      <td>bank_transfer</td>\n",
       "      <td>22</td>\n",
       "      <td>66</td>\n",
       "      <td>0</td>\n",
       "    </tr>\n",
       "    <tr>\n",
       "      <th>1</th>\n",
       "      <td>4756.035817</td>\n",
       "      <td>12</td>\n",
       "      <td>0</td>\n",
       "      <td>0</td>\n",
       "      <td>card</td>\n",
       "      <td>12</td>\n",
       "      <td>234</td>\n",
       "      <td>0</td>\n",
       "    </tr>\n",
       "    <tr>\n",
       "      <th>2</th>\n",
       "      <td>3673.370012</td>\n",
       "      <td>16</td>\n",
       "      <td>0</td>\n",
       "      <td>0</td>\n",
       "      <td>bank_transfer</td>\n",
       "      <td>5</td>\n",
       "      <td>87</td>\n",
       "      <td>0</td>\n",
       "    </tr>\n",
       "    <tr>\n",
       "      <th>3</th>\n",
       "      <td>3013.359497</td>\n",
       "      <td>24</td>\n",
       "      <td>0</td>\n",
       "      <td>1</td>\n",
       "      <td>wallet</td>\n",
       "      <td>5</td>\n",
       "      <td>79</td>\n",
       "      <td>0</td>\n",
       "    </tr>\n",
       "    <tr>\n",
       "      <th>4</th>\n",
       "      <td>822.292270</td>\n",
       "      <td>19</td>\n",
       "      <td>0</td>\n",
       "      <td>0</td>\n",
       "      <td>bank_transfer</td>\n",
       "      <td>11</td>\n",
       "      <td>205</td>\n",
       "      <td>0</td>\n",
       "    </tr>\n",
       "  </tbody>\n",
       "</table>\n",
       "</div>"
      ],
      "text/plain": [
       "   TransactionAmount  FrequencyOfTransactions  IsNewDevice  IsNewLocation  \\\n",
       "0        1903.973588                       47            1              0   \n",
       "1        4756.035817                       12            0              0   \n",
       "2        3673.370012                       16            0              0   \n",
       "3        3013.359497                       24            0              1   \n",
       "4         822.292270                       19            0              0   \n",
       "\n",
       "   PaymentMethod  TransactionHour  UserAgeDays  PreviousFraudReports  \n",
       "0  bank_transfer               22           66                     0  \n",
       "1           card               12          234                     0  \n",
       "2  bank_transfer                5           87                     0  \n",
       "3         wallet                5           79                     0  \n",
       "4  bank_transfer               11          205                     0  "
      ]
     },
     "execution_count": 1,
     "metadata": {},
     "output_type": "execute_result"
    }
   ],
   "source": [
    "import pandas as pd\n",
    "import numpy as np\n",
    "\n",
    "# Simulate data\n",
    "np.random.seed(42)\n",
    "data_size = 1000\n",
    "data = {\n",
    "    'TransactionAmount': np.random.uniform(50, 5000, data_size),\n",
    "    'FrequencyOfTransactions': np.random.randint(1, 50, data_size),\n",
    "    'IsNewDevice': np.random.choice([0, 1], data_size, p=[0.8, 0.2]),\n",
    "    'IsNewLocation': np.random.choice([0, 1], data_size, p=[0.7, 0.3]),\n",
    "    'PaymentMethod': np.random.choice(['card', 'wallet', 'bank_transfer'], data_size),\n",
    "    'TransactionHour': np.random.randint(0, 24, data_size),\n",
    "    'UserAgeDays': np.random.randint(1, 365, data_size),\n",
    "    'PreviousFraudReports': np.random.choice([0, 1], data_size, p=[0.9, 0.1]),\n",
    "}\n",
    "\n",
    "df = pd.DataFrame(data)\n",
    "df.head()"
   ]
  },
  {
   "cell_type": "markdown",
   "id": "4cc46ff4",
   "metadata": {},
   "source": [
    "# Preprocess Data"
   ]
  },
  {
   "cell_type": "code",
   "execution_count": null,
   "id": "30b49304",
   "metadata": {},
   "outputs": [],
   "source": [
    "from sklearn.preprocessing import StandardScaler, OneHotEncoder\n",
    "from sklearn.compose import ColumnTransformer\n",
    "\n",
    "features = df.columns.tolist()\n",
    "numeric_features = df.select_dtypes(include=['int64', 'float64']).columns.tolist()\n",
    "categorical_features = ['PaymentMethod']\n",
    "\n",
    "preprocessor = ColumnTransformer(\n",
    "    transformers=[\n",
    "        ('num', StandardScaler(), numeric_features),\n",
    "        ('cat', OneHotEncoder(), categorical_features)\n",
    "    ])\n",
    "\n",
    "df_processed = preprocessor.fit_transform(df)"
   ]
  },
  {
   "cell_type": "markdown",
   "id": "20ca2a0c",
   "metadata": {},
   "source": [
    "# Clustering to Identify Risk Buckets"
   ]
  },
  {
   "cell_type": "code",
   "execution_count": null,
   "id": "1b671e82",
   "metadata": {},
   "outputs": [],
   "source": [
    "from sklearn.cluster import KMeans\n",
    "\n",
    "kmeans = KMeans(n_clusters=4, random_state=42)\n",
    "df['RiskBucket'] = kmeans.fit_predict(df_processed)\n",
    "\n",
    "# Check the distribution of users in buckets\n",
    "print(df['RiskBucket'].value_counts())"
   ]
  },
  {
   "cell_type": "markdown",
   "id": "e41461bd",
   "metadata": {},
   "source": [
    "# Prioritizing Alerts Based on Risk Buckets"
   ]
  },
  {
   "cell_type": "code",
   "execution_count": null,
   "id": "64b8dd9e",
   "metadata": {},
   "outputs": [],
   "source": [
    "# Example: Assuming 'AlertScore' is a column in your alerts DataFrame\n",
    "alerts_df['Priority'] = alerts_df.apply(lambda x: 'High' if x['RiskBucket'] in [1, 2] else 'Low', axis=1)\n",
    "\n",
    "# Now, manual reviewers can filter by 'Priority' to focus on high-priority alerts first"
   ]
  },
  {
   "cell_type": "markdown",
   "id": "122b0435",
   "metadata": {},
   "source": [
    "# Silhouette method for optimal clusters"
   ]
  },
  {
   "cell_type": "code",
   "execution_count": null,
   "id": "06bdc089",
   "metadata": {},
   "outputs": [],
   "source": [
    "from sklearn.metrics import silhouette_score\n",
    "from sklearn.preprocessing import StandardScaler, OneHotEncoder\n",
    "from sklearn.compose import ColumnTransformer\n",
    "from sklearn.cluster import KMeans\n",
    "import matplotlib.pyplot as plt\n",
    "\n",
    "# Assuming df_processed is the preprocessed DataFrame\n",
    "\n",
    "# We will test a range of cluster numbers to find the optimal one\n",
    "range_n_clusters = list(range(2, 11))\n",
    "silhouette_scores = []\n",
    "\n",
    "for n_clusters in range_n_clusters:\n",
    "    clusterer = KMeans(n_clusters=n_clusters, random_state=42)\n",
    "    cluster_labels = clusterer.fit_predict(df_processed)\n",
    "    silhouette_avg = silhouette_score(df_processed, cluster_labels)\n",
    "    silhouette_scores.append(silhouette_avg)\n",
    "    print(\"For n_clusters =\", n_clusters, \"The average silhouette_score is :\", silhouette_avg)\n",
    "\n",
    "# Plotting the silhouette scores for different numbers of clusters\n",
    "plt.figure(figsize=(10, 6))\n",
    "plt.plot(range_n_clusters, silhouette_scores, marker='o')\n",
    "plt.title('Silhouette Score Method For Optimal Clusters')\n",
    "plt.xlabel('Number of Clusters')\n",
    "plt.ylabel('Silhouette Score')\n",
    "plt.show()"
   ]
  }
 ],
 "metadata": {
  "kernelspec": {
   "display_name": "Python 3 (ipykernel)",
   "language": "python",
   "name": "python3"
  },
  "language_info": {
   "codemirror_mode": {
    "name": "ipython",
    "version": 3
   },
   "file_extension": ".py",
   "mimetype": "text/x-python",
   "name": "python",
   "nbconvert_exporter": "python",
   "pygments_lexer": "ipython3",
   "version": "3.10.9"
  }
 },
 "nbformat": 4,
 "nbformat_minor": 5
}
